{
 "cells": [
  {
   "cell_type": "code",
   "execution_count": 1,
   "metadata": {},
   "outputs": [],
   "source": [
    "import numpy as np\n",
    "import pandas as pd\n",
    "\n",
    "from bootstrapped import bootstrap as bs\n",
    "from bootstrapped import compare_functions as bs_cmp\n",
    "from bootstrapped import stats_functions as bs_st\n",
    "\n",
    "from scipy.stats import norm, mannwhitneyu, kruskal\n",
    "import matplotlib.pyplot as plt\n",
    "import seaborn as sns\n",
    "\n",
    "from tqdm.auto import tqdm\n",
    "\n",
    "plt.style.use('ggplot')"
   ]
  },
  {
   "cell_type": "code",
   "execution_count": 2,
   "metadata": {},
   "outputs": [],
   "source": [
    "# Объявим функцию, которая позволит проверять гипотезы с помощью бутстрапа\n",
    "def get_bootstrap(\n",
    "    data_column_1, # числовые значения первой выборки\n",
    "    data_column_2, # числовые значения второй выборки\n",
    "    boot_it = 1000, # количество бутстрэп-подвыборок\n",
    "    statistic = np.mean, # интересующая нас статистика\n",
    "    bootstrap_conf_level = 0.95 # уровень значимости\n",
    "):\n",
    "    boot_len = min([len(data_column_1), len(data_column_2)])\n",
    "    boot_data = []\n",
    "    for i in tqdm(range(boot_it)): # извлекаем подвыборки\n",
    "        samples_1 = data_column_1.sample(\n",
    "            boot_len, \n",
    "            replace = True # параметр возвращения\n",
    "        ).values\n",
    "        \n",
    "        samples_2 = data_column_2.sample(\n",
    "            boot_len, \n",
    "            replace = True\n",
    "        ).values\n",
    "        \n",
    "        boot_data.append(statistic(samples_1-samples_2)) # mean() - применяем статистику\n",
    "        \n",
    "    pd_boot_data = pd.DataFrame(boot_data)\n",
    "        \n",
    "    left_quant = (1 - bootstrap_conf_level)/2\n",
    "    right_quant = 1 - (1 - bootstrap_conf_level) / 2\n",
    "    ci = pd_boot_data.quantile([left_quant, right_quant])\n",
    "        \n",
    "    p_1 = norm.cdf(\n",
    "        x = 0, \n",
    "        loc = np.mean(boot_data), \n",
    "        scale = np.std(boot_data)\n",
    "    )\n",
    "    p_2 = norm.cdf(\n",
    "        x = 0, \n",
    "        loc = -np.mean(boot_data), \n",
    "        scale = np.std(boot_data)\n",
    "    )\n",
    "    p_value = min(p_1, p_2) * 2\n",
    "        \n",
    "    # Визуализация\n",
    "    plt.hist(pd_boot_data[0], bins = 50)\n",
    "    \n",
    "    plt.style.use('ggplot')\n",
    "    plt.vlines(ci,ymin=0,ymax=50,linestyle='--')\n",
    "    plt.xlabel('boot_data')\n",
    "    plt.ylabel('frequency')\n",
    "    plt.title(\"Histogram of boot_data\")\n",
    "    plt.show()\n",
    "       \n",
    "    return {\"boot_data\": boot_data,\n",
    "            \"value\": pd_boot_data.quantile(0.5),\n",
    "            \"ci\": ci,\n",
    "            \"p_value\": p_value}"
   ]
  },
  {
   "cell_type": "code",
   "execution_count": 3,
   "metadata": {},
   "outputs": [],
   "source": [
    "# готовый бустрап https://github.com/facebookarchive/bootstrapped\n",
    "def facebook_bootstrap(test, control, stat_func, compare_func, alpha):\n",
    "    dist = bs.bootstrap_ab(\n",
    "        test,\n",
    "        control,\n",
    "        stat_func,\n",
    "        compare_func,\n",
    "        alpha=0.05,\n",
    "        num_iterations=10000,\n",
    "        iteration_batch_size=100,\n",
    "        scale_test_by=1,\n",
    "        num_threads=-1,\n",
    "        return_distribution=True\n",
    "    )\n",
    "    \n",
    "    p_1 = norm.cdf(\n",
    "        x = 0, \n",
    "        loc = np.mean(dist), \n",
    "        scale = np.std(dist)\n",
    "    )\n",
    "    p_2 = norm.cdf(\n",
    "        x = 0, \n",
    "        loc = -np.mean(dist), \n",
    "        scale = np.std(dist)\n",
    "    )\n",
    "    p_value = min(p_1, p_2) * 2\n",
    "    \n",
    "    result = bs._get_confidence_interval(dist, [], 0.05, is_pivotal=False)\n",
    "    \n",
    "    # Визуализация\n",
    "    plt.hist(dist, bins = 50)\n",
    "    plt.style.use('ggplot')\n",
    "    plt.vlines([result.lower_bound, result.upper_bound],ymin=0,ymax=50,linestyle='--')\n",
    "    plt.xlabel('boot_data')\n",
    "    plt.ylabel('frequency')\n",
    "    plt.title(\"Histogram of boot_data\")\n",
    "    plt.show()\n",
    "\n",
    "    return {'result': result, 'p_value': p_value}"
   ]
  },
  {
   "cell_type": "code",
   "execution_count": 4,
   "metadata": {},
   "outputs": [],
   "source": [
    "df = pd.read_csv('hw5.csv', sep=';', decimal=',', index_col=0)"
   ]
  },
  {
   "cell_type": "code",
   "execution_count": 5,
   "metadata": {},
   "outputs": [
    {
     "data": {
      "text/html": [
       "<div>\n",
       "<style scoped>\n",
       "    .dataframe tbody tr th:only-of-type {\n",
       "        vertical-align: middle;\n",
       "    }\n",
       "\n",
       "    .dataframe tbody tr th {\n",
       "        vertical-align: top;\n",
       "    }\n",
       "\n",
       "    .dataframe thead th {\n",
       "        text-align: right;\n",
       "    }\n",
       "</style>\n",
       "<table border=\"1\" class=\"dataframe\">\n",
       "  <thead>\n",
       "    <tr style=\"text-align: right;\">\n",
       "      <th></th>\n",
       "      <th>value</th>\n",
       "      <th>experimentVariant</th>\n",
       "    </tr>\n",
       "  </thead>\n",
       "  <tbody>\n",
       "    <tr>\n",
       "      <th>1</th>\n",
       "      <td>9.773113</td>\n",
       "      <td>Treatment</td>\n",
       "    </tr>\n",
       "    <tr>\n",
       "      <th>2</th>\n",
       "      <td>9.311246</td>\n",
       "      <td>Treatment</td>\n",
       "    </tr>\n",
       "    <tr>\n",
       "      <th>3</th>\n",
       "      <td>11.172828</td>\n",
       "      <td>Treatment</td>\n",
       "    </tr>\n",
       "    <tr>\n",
       "      <th>4</th>\n",
       "      <td>11.624510</td>\n",
       "      <td>Treatment</td>\n",
       "    </tr>\n",
       "    <tr>\n",
       "      <th>5</th>\n",
       "      <td>10.462331</td>\n",
       "      <td>Treatment</td>\n",
       "    </tr>\n",
       "    <tr>\n",
       "      <th>...</th>\n",
       "      <td>...</td>\n",
       "      <td>...</td>\n",
       "    </tr>\n",
       "    <tr>\n",
       "      <th>546</th>\n",
       "      <td>10.973929</td>\n",
       "      <td>Control</td>\n",
       "    </tr>\n",
       "    <tr>\n",
       "      <th>547</th>\n",
       "      <td>10.261074</td>\n",
       "      <td>Control</td>\n",
       "    </tr>\n",
       "    <tr>\n",
       "      <th>548</th>\n",
       "      <td>8.780090</td>\n",
       "      <td>Control</td>\n",
       "    </tr>\n",
       "    <tr>\n",
       "      <th>549</th>\n",
       "      <td>11.169078</td>\n",
       "      <td>Control</td>\n",
       "    </tr>\n",
       "    <tr>\n",
       "      <th>550</th>\n",
       "      <td>11.499566</td>\n",
       "      <td>Control</td>\n",
       "    </tr>\n",
       "  </tbody>\n",
       "</table>\n",
       "<p>550 rows × 2 columns</p>\n",
       "</div>"
      ],
      "text/plain": [
       "         value experimentVariant\n",
       "1     9.773113         Treatment\n",
       "2     9.311246         Treatment\n",
       "3    11.172828         Treatment\n",
       "4    11.624510         Treatment\n",
       "5    10.462331         Treatment\n",
       "..         ...               ...\n",
       "546  10.973929           Control\n",
       "547  10.261074           Control\n",
       "548   8.780090           Control\n",
       "549  11.169078           Control\n",
       "550  11.499566           Control\n",
       "\n",
       "[550 rows x 2 columns]"
      ]
     },
     "execution_count": 5,
     "metadata": {},
     "output_type": "execute_result"
    }
   ],
   "source": [
    "df"
   ]
  },
  {
   "cell_type": "code",
   "execution_count": 6,
   "metadata": {},
   "outputs": [
    {
     "data": {
      "text/html": [
       "<div>\n",
       "<style scoped>\n",
       "    .dataframe tbody tr th:only-of-type {\n",
       "        vertical-align: middle;\n",
       "    }\n",
       "\n",
       "    .dataframe tbody tr th {\n",
       "        vertical-align: top;\n",
       "    }\n",
       "\n",
       "    .dataframe thead tr th {\n",
       "        text-align: left;\n",
       "    }\n",
       "\n",
       "    .dataframe thead tr:last-of-type th {\n",
       "        text-align: right;\n",
       "    }\n",
       "</style>\n",
       "<table border=\"1\" class=\"dataframe\">\n",
       "  <thead>\n",
       "    <tr>\n",
       "      <th></th>\n",
       "      <th colspan=\"2\" halign=\"left\">value</th>\n",
       "    </tr>\n",
       "    <tr>\n",
       "      <th></th>\n",
       "      <th>count</th>\n",
       "      <th>mean</th>\n",
       "    </tr>\n",
       "    <tr>\n",
       "      <th>experimentVariant</th>\n",
       "      <th></th>\n",
       "      <th></th>\n",
       "    </tr>\n",
       "  </thead>\n",
       "  <tbody>\n",
       "    <tr>\n",
       "      <th>Control</th>\n",
       "      <td>500</td>\n",
       "      <td>10.026867</td>\n",
       "    </tr>\n",
       "    <tr>\n",
       "      <th>Treatment</th>\n",
       "      <td>50</td>\n",
       "      <td>10.367236</td>\n",
       "    </tr>\n",
       "  </tbody>\n",
       "</table>\n",
       "</div>"
      ],
      "text/plain": [
       "                  value           \n",
       "                  count       mean\n",
       "experimentVariant                 \n",
       "Control             500  10.026867\n",
       "Treatment            50  10.367236"
      ]
     },
     "execution_count": 6,
     "metadata": {},
     "output_type": "execute_result"
    }
   ],
   "source": [
    "df.groupby(['experimentVariant']).agg(['count', 'mean'])"
   ]
  },
  {
   "cell_type": "code",
   "execution_count": 7,
   "metadata": {},
   "outputs": [
    {
     "data": {
      "image/png": "[encoded data removed]",
      "text/plain": [
       "<Figure size 432x288 with 1 Axes>"
      ]
     },
     "metadata": {},
     "output_type": "display_data"
    }
   ],
   "source": [
    "viz1 = sns.boxplot(x='value',y='experimentVariant', data=df)"
   ]
  },
  {
   "cell_type": "code",
   "execution_count": 8,
   "metadata": {},
   "outputs": [],
   "source": [
    "test_sample = np.array(df[df['experimentVariant'] == 'Treatment']['value'])\n",
    "control_sample = np.array(df[df['experimentVariant'] == 'Control']['value'])"
   ]
  },
  {
   "cell_type": "markdown",
   "metadata": {},
   "source": [
    "### Mean diff bootstrap"
   ]
  },
  {
   "cell_type": "code",
   "execution_count": 9,
   "metadata": {},
   "outputs": [
    {
     "data": {
      "image/png": "[encoded data removed]",
      "text/plain": [
       "<Figure size 432x288 with 1 Axes>"
      ]
     },
     "metadata": {},
     "output_type": "display_data"
    },
    {
     "name": "stdout",
     "output_type": "stream",
     "text": [
      "p-value:  0.02394279001087329\n",
      "is significant:  True\n",
      "diff value:  0.3417548027445836\n",
      "diff ci:  (0.041680370754189386, 0.6314215345420423)\n"
     ]
    }
   ],
   "source": [
    "bootstrap_mean = facebook_bootstrap(\n",
    "    test_sample,\n",
    "    control_sample,\n",
    "    bs_st.mean,\n",
    "    bs_cmp.difference,\n",
    "    0.05\n",
    ")\n",
    "\n",
    "print('p-value: ', bootstrap_mean['p_value'])\n",
    "print('is significant: ', bootstrap_mean['result'].is_significant())\n",
    "print('diff value: ', bootstrap_mean['result'].value)\n",
    "print('diff ci: ', (bootstrap_mean['result'].lower_bound, bootstrap_mean['result'].upper_bound))"
   ]
  },
  {
   "cell_type": "code",
   "execution_count": 10,
   "metadata": {},
   "outputs": [
    {
     "data": {
      "application/vnd.jupyter.widget-view+json": {
       "model_id": "9b7f7d7f85284372adba0562f71dfd15",
       "version_major": 2,
       "version_minor": 0
      },
      "text/plain": [
       "HBox(children=(FloatProgress(value=0.0, max=10000.0), HTML(value='')))"
      ]
     },
     "metadata": {},
     "output_type": "display_data"
    },
    {
     "name": "stdout",
     "output_type": "stream",
     "text": [
      "\n"
     ]
    },
    {
     "data": {
      "image/png": "[encoded data removed]",
      "text/plain": [
       "<Figure size 432x288 with 1 Axes>"
      ]
     },
     "metadata": {},
     "output_type": "display_data"
    },
    {
     "name": "stdout",
     "output_type": "stream",
     "text": [
      "p-value:  6.525994956905224e-08\n",
      "diff value:  0.3396736913756013\n",
      "diff ci:  0.025    0.215497\n",
      "0.975    0.460993\n",
      "Name: 0, dtype: float64\n"
     ]
    }
   ],
   "source": [
    "booted_mean_data = get_bootstrap(\n",
    "    df[df['experimentVariant'] == 'Treatment']['value'],\n",
    "    df[df['experimentVariant'] == 'Control']['value'],\n",
    "    boot_it = 10000\n",
    ")\n",
    "\n",
    "print('p-value: ', booted_mean_data['p_value'])\n",
    "print('diff value: ', booted_mean_data['value'][0])\n",
    "print('diff ci: ', booted_mean_data['ci'][0])"
   ]
  },
  {
   "cell_type": "markdown",
   "metadata": {},
   "source": [
    "### Median diff bootstrap"
   ]
  },
  {
   "cell_type": "code",
   "execution_count": 11,
   "metadata": {},
   "outputs": [
    {
     "data": {
      "image/png": "[encoded data removed]",
      "text/plain": [
       "<Figure size 432x288 with 1 Axes>"
      ]
     },
     "metadata": {},
     "output_type": "display_data"
    },
    {
     "name": "stdout",
     "output_type": "stream",
     "text": [
      "p-value:  0.00025442755809602295\n",
      "is significant:  True\n",
      "diff value:  0.40580112444290073\n",
      "diff ci:  (0.22968854350833415, 0.6937607151950321)\n"
     ]
    }
   ],
   "source": [
    "bootstrap_median = facebook_bootstrap(\n",
    "    test_sample,\n",
    "    control_sample,\n",
    "    bs_st.median,\n",
    "    bs_cmp.difference,\n",
    "    0.05\n",
    ")\n",
    "\n",
    "print('p-value: ', bootstrap_median['p_value'])\n",
    "print('is significant: ', bootstrap_median['result'].is_significant())\n",
    "print('diff value: ', bootstrap_median['result'].value)\n",
    "print('diff ci: ', (bootstrap_median['result'].lower_bound, bootstrap_median['result'].upper_bound))"
   ]
  },
  {
   "cell_type": "code",
   "execution_count": 12,
   "metadata": {},
   "outputs": [
    {
     "data": {
      "application/vnd.jupyter.widget-view+json": {
       "model_id": "53a0888264234794a59a5b1364bba224",
       "version_major": 2,
       "version_minor": 0
      },
      "text/plain": [
       "HBox(children=(FloatProgress(value=0.0, max=10000.0), HTML(value='')))"
      ]
     },
     "metadata": {},
     "output_type": "display_data"
    },
    {
     "name": "stdout",
     "output_type": "stream",
     "text": [
      "\n"
     ]
    },
    {
     "data": {
      "image/png": "[encoded data removed]",
      "text/plain": [
       "<Figure size 432x288 with 1 Axes>"
      ]
     },
     "metadata": {},
     "output_type": "display_data"
    },
    {
     "name": "stdout",
     "output_type": "stream",
     "text": [
      "p-value:  3.31481543402701e-08\n",
      "diff value:  0.4074859142799001\n",
      "diff ci:  0.025    0.266134\n",
      "0.975    0.556643\n",
      "Name: 0, dtype: float64\n"
     ]
    }
   ],
   "source": [
    "booted_median_data = get_bootstrap(\n",
    "    df[df['experimentVariant'] == 'Treatment']['value'],\n",
    "    df[df['experimentVariant'] == 'Control']['value'],\n",
    "    boot_it = 10000,\n",
    "    statistic = np.median\n",
    ")\n",
    "\n",
    "print('p-value: ', booted_median_data['p_value'])\n",
    "print('diff value: ', booted_median_data['value'][0])\n",
    "print('diff ci: ', booted_median_data['ci'][0])"
   ]
  },
  {
   "cell_type": "markdown",
   "metadata": {},
   "source": [
    "### Mann-Whitneyu"
   ]
  },
  {
   "cell_type": "code",
   "execution_count": 13,
   "metadata": {},
   "outputs": [
    {
     "name": "stdout",
     "output_type": "stream",
     "text": [
      "Mann-Whitney rank test\n",
      "u = 15492.0\n",
      "p-value = 0.005236419587596797\n"
     ]
    }
   ],
   "source": [
    "mw_res = mannwhitneyu(test_sample, control_sample, alternative='two-sided')\n",
    "\n",
    "print(\"Mann-Whitney rank test\")\n",
    "print(\"u =\", mw_res[0])\n",
    "print(\"p-value =\", mw_res[1])"
   ]
  },
  {
   "cell_type": "markdown",
   "metadata": {},
   "source": [
    "### Kruskal-Wallis H-test"
   ]
  },
  {
   "cell_type": "code",
   "execution_count": 14,
   "metadata": {},
   "outputs": [
    {
     "data": {
      "text/plain": [
       "KruskalResult(statistic=7.7985312522685035, pvalue=0.005228871996769007)"
      ]
     },
     "execution_count": 14,
     "metadata": {},
     "output_type": "execute_result"
    }
   ],
   "source": [
    "kruskal(test_sample, control_sample)"
   ]
  }
 ],
 "metadata": {
  "kernelspec": {
   "display_name": "Python 3",
   "language": "python",
   "name": "python3"
  },
  "language_info": {
   "codemirror_mode": {
    "name": "ipython",
    "version": 3
   },
   "file_extension": ".py",
   "mimetype": "text/x-python",
   "name": "python",
   "nbconvert_exporter": "python",
   "pygments_lexer": "ipython3",
   "version": "3.7.6"
  }
 },
 "nbformat": 4,
 "nbformat_minor": 4
}
